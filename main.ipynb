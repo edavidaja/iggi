{
 "cells": [
  {
   "cell_type": "code",
   "execution_count": 1,
   "id": "3c50f552-4402-40a9-a6a1-18b22fa9b681",
   "metadata": {
    "tags": []
   },
   "outputs": [],
   "source": [
    "import os\n",
    "import fitz  # PyMuPDF\n",
    "import re\n",
    "import json\n",
    "\n",
    "from dask_jobqueue import SLURMCluster\n",
    "\n",
    "cluster = SLURMCluster(\n",
    "    cores = 20,\n",
    "    processes=10,\n",
    "    memory=\"20GB\",\n",
    "    queue = \"all\"\n",
    ")\n",
    "\n",
    "\n"
   ]
  },
  {
   "cell_type": "code",
   "execution_count": 2,
   "id": "66258871-5805-4e20-a2b5-1ee510b41ddd",
   "metadata": {
    "tags": []
   },
   "outputs": [
    {
     "data": {
      "text/html": [
       "<div class=\"jp-RenderedHTMLCommon jp-RenderedHTML jp-mod-trusted jp-OutputArea-output\">\n",
       "    <div style=\"width: 24px; height: 24px; background-color: #e1e1e1; border: 3px solid #9D9D9D; border-radius: 5px; position: absolute;\">\n",
       "    </div>\n",
       "    <div style=\"margin-left: 48px;\">\n",
       "        <h3 style=\"margin-bottom: 0px; margin-top: 0px;\">SLURMCluster</h3>\n",
       "        <p style=\"color: #9D9D9D; margin-bottom: 0px;\">fb3913fe</p>\n",
       "        <table style=\"width: 100%; text-align: left;\">\n",
       "            <tr>\n",
       "                <td style=\"text-align: left;\">\n",
       "                    <strong>Dashboard:</strong> <a href=\"http://172.31.48.33:8787/status\" target=\"_blank\">http://172.31.48.33:8787/status</a>\n",
       "                </td>\n",
       "                <td style=\"text-align: left;\">\n",
       "                    <strong>Workers:</strong> 0\n",
       "                </td>\n",
       "            </tr>\n",
       "            <tr>\n",
       "                <td style=\"text-align: left;\">\n",
       "                    <strong>Total threads:</strong> 0\n",
       "                </td>\n",
       "                <td style=\"text-align: left;\">\n",
       "                    <strong>Total memory:</strong> 0 B\n",
       "                </td>\n",
       "            </tr>\n",
       "            \n",
       "        </table>\n",
       "\n",
       "        <details>\n",
       "            <summary style=\"margin-bottom: 20px;\">\n",
       "                <h3 style=\"display: inline;\">Scheduler Info</h3>\n",
       "            </summary>\n",
       "\n",
       "            <div style=\"\">\n",
       "    <div>\n",
       "        <div style=\"width: 24px; height: 24px; background-color: #FFF7E5; border: 3px solid #FF6132; border-radius: 5px; position: absolute;\"> </div>\n",
       "        <div style=\"margin-left: 48px;\">\n",
       "            <h3 style=\"margin-bottom: 0px;\">Scheduler</h3>\n",
       "            <p style=\"color: #9D9D9D; margin-bottom: 0px;\">Scheduler-00183521-31f1-4403-8678-78db12f235cc</p>\n",
       "            <table style=\"width: 100%; text-align: left;\">\n",
       "                <tr>\n",
       "                    <td style=\"text-align: left;\">\n",
       "                        <strong>Comm:</strong> tcp://172.31.48.33:44855\n",
       "                    </td>\n",
       "                    <td style=\"text-align: left;\">\n",
       "                        <strong>Workers:</strong> 0\n",
       "                    </td>\n",
       "                </tr>\n",
       "                <tr>\n",
       "                    <td style=\"text-align: left;\">\n",
       "                        <strong>Dashboard:</strong> <a href=\"http://172.31.48.33:8787/status\" target=\"_blank\">http://172.31.48.33:8787/status</a>\n",
       "                    </td>\n",
       "                    <td style=\"text-align: left;\">\n",
       "                        <strong>Total threads:</strong> 0\n",
       "                    </td>\n",
       "                </tr>\n",
       "                <tr>\n",
       "                    <td style=\"text-align: left;\">\n",
       "                        <strong>Started:</strong> Just now\n",
       "                    </td>\n",
       "                    <td style=\"text-align: left;\">\n",
       "                        <strong>Total memory:</strong> 0 B\n",
       "                    </td>\n",
       "                </tr>\n",
       "            </table>\n",
       "        </div>\n",
       "    </div>\n",
       "\n",
       "    <details style=\"margin-left: 48px;\">\n",
       "        <summary style=\"margin-bottom: 20px;\">\n",
       "            <h3 style=\"display: inline;\">Workers</h3>\n",
       "        </summary>\n",
       "\n",
       "        \n",
       "\n",
       "    </details>\n",
       "</div>\n",
       "\n",
       "        </details>\n",
       "    </div>\n",
       "</div>"
      ],
      "text/plain": [
       "SLURMCluster(fb3913fe, 'tcp://172.31.48.33:44855', workers=0, threads=0, memory=0 B)"
      ]
     },
     "metadata": {},
     "output_type": "display_data"
    }
   ],
   "source": [
    "cluster"
   ]
  },
  {
   "cell_type": "code",
   "execution_count": null,
   "id": "74bf86d7-c0bf-4ff8-bdc6-341ba1ad2222",
   "metadata": {},
   "outputs": [],
   "source": [
    "def is_valid_match(match):\n",
    "    return isinstance(match, str) and match.startswith(\"GAO\")\n",
    "\n",
    "def extract_gao_citation(pdf_path, regex_pattern):\n",
    "    doc = fitz.open(pdf_path)\n",
    "    unique_matches = set()\n",
    "\n",
    "    for page_number in range(doc.page_count):\n",
    "        page = doc[page_number]\n",
    "        text = page.get_text()\n",
    "\n",
    "        page_matches = re.findall(regex_pattern, text)\n",
    "        unique_matches.update(match for match in page_matches if match.startswith(\"GAO\"))\n",
    "\n",
    "    doc.close()\n",
    "    return {'file': pdf_path, 'matches': list(unique_matches)}\n",
    "\n",
    "def process_pdfs_in_folder(folder_path, regex_pattern):\n",
    "    output_folder = \"parsed\"\n",
    "\n",
    "    for filename in os.listdir(folder_path):\n",
    "        if filename.endswith(\".pdf\"):\n",
    "            pdf_path = os.path.join(folder_path, filename)\n",
    "            output_json_path = os.path.join(output_folder, f\"{os.path.splitext(filename)[0]}_output.json\")\n",
    "\n",
    "            result = extract_gao_citation(pdf_path, regex_pattern)\n",
    "\n",
    "            with open(output_json_path, 'w') as json_file:\n",
    "                json.dump(result, json_file, indent=2)"
   ]
  },
  {
   "cell_type": "code",
   "execution_count": null,
   "id": "adb60252-7e88-4715-b475-e3cc2eceb0f2",
   "metadata": {},
   "outputs": [],
   "source": [
    "folder_path = \"pdfs-test\"\n",
    "regex_pattern =  r'\\bGAO-[A-Z0-9]+(?:-[A-Z0-9]+)*\\b'\n",
    "\n",
    "process_pdfs_in_folder(folder_path, regex_pattern)\n"
   ]
  }
 ],
 "metadata": {
  "kernelspec": {
   "display_name": "iggi",
   "language": "python",
   "name": "iggi"
  },
  "language_info": {
   "codemirror_mode": {
    "name": "ipython",
    "version": 3
   },
   "file_extension": ".py",
   "mimetype": "text/x-python",
   "name": "python",
   "nbconvert_exporter": "python",
   "pygments_lexer": "ipython3",
   "version": "3.11.6"
  }
 },
 "nbformat": 4,
 "nbformat_minor": 5
}
